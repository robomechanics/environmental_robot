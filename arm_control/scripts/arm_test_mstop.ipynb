{
 "cells": [
  {
   "cell_type": "code",
   "execution_count": 1,
   "id": "014fc9db-273a-4908-bc2f-a19e92af6f3d",
   "metadata": {},
   "outputs": [],
   "source": [
    "%load_ext autoreload\n",
    "%autoreload 2\n",
    "\n",
    "from arm_control import *"
   ]
  },
  {
   "cell_type": "code",
   "execution_count": 2,
   "id": "f95ea6f9-a60f-4bd1-88d1-6c35e1e24a35",
   "metadata": {},
   "outputs": [],
   "source": [
    "def check_limits(joint_angles, min_constraints, max_constraints):\n",
    "    if(np.alltrue(joint_angles>min_constraints) and \n",
    "       np.alltrue(joint_angles<max_constraints)):\n",
    "        return True\n",
    "    else:\n",
    "        return False"
   ]
  },
  {
   "cell_type": "code",
   "execution_count": 12,
   "id": "f4a52c15-817d-465d-8f3c-fe95cfc164ba",
   "metadata": {},
   "outputs": [
    {
     "name": "stdout",
     "output_type": "stream",
     "text": [
      "Gains path:  /home/patrick/catkin_ws/src/environmental_robot/arm_control/config/gains/anakin_gains.xml\n"
     ]
    },
    {
     "ename": "ServiceException",
     "evalue": "service [/return] already registered",
     "output_type": "error",
     "traceback": [
      "\u001b[0;31m---------------------------------------------------------------------------\u001b[0m",
      "\u001b[0;31mServiceException\u001b[0m                          Traceback (most recent call last)",
      "Cell \u001b[0;32mIn[12], line 7\u001b[0m\n\u001b[1;32m      2\u001b[0m rospy\u001b[38;5;241m.\u001b[39minit_node(\u001b[38;5;124m'\u001b[39m\u001b[38;5;124mrobot_control_node\u001b[39m\u001b[38;5;124m'\u001b[39m)\n\u001b[1;32m      4\u001b[0m robot_controller \u001b[38;5;241m=\u001b[39m RobotController(\u001b[38;5;124m\"\u001b[39m\u001b[38;5;124mArm_RML\u001b[39m\u001b[38;5;124m\"\u001b[39m, \n\u001b[1;32m      5\u001b[0m                                    [\u001b[38;5;124m\"\u001b[39m\u001b[38;5;124mJ1_base\u001b[39m\u001b[38;5;124m\"\u001b[39m, \u001b[38;5;124m\"\u001b[39m\u001b[38;5;124mJ2_shoulder\u001b[39m\u001b[38;5;124m\"\u001b[39m, \u001b[38;5;124m\"\u001b[39m\u001b[38;5;124mJ3_elbow\u001b[39m\u001b[38;5;124m\"\u001b[39m, \u001b[38;5;124m'\u001b[39m\u001b[38;5;124mJ4_wrist\u001b[39m\u001b[38;5;124m'\u001b[39m], \n\u001b[1;32m      6\u001b[0m                                    \u001b[38;5;124m\"\u001b[39m\u001b[38;5;124mconfig/hrdf/anakin.hrdf\u001b[39m\u001b[38;5;124m\"\u001b[39m)\n\u001b[0;32m----> 7\u001b[0m eft \u001b[38;5;241m=\u001b[39m \u001b[43mEndEffectorTrajectory\u001b[49m\u001b[43m(\u001b[49m\u001b[43mrobot_controller\u001b[49m\u001b[43m)\u001b[49m\n\u001b[1;32m      8\u001b[0m \u001b[38;5;28mprint\u001b[39m(robot_controller\u001b[38;5;241m.\u001b[39mget_joint_angles())\n\u001b[1;32m      9\u001b[0m \u001b[38;5;66;03m#robot_controller.get_effort()\u001b[39;00m\n",
      "File \u001b[0;32m~/catkin_ws/src/environmental_robot/arm_control/scripts/arm_control.py:90\u001b[0m, in \u001b[0;36mEndEffectorTrajectory.__init__\u001b[0;34m(self, robot_controller)\u001b[0m\n\u001b[1;32m     87\u001b[0m \u001b[38;5;28;01mdef\u001b[39;00m \u001b[38;5;21m__init__\u001b[39m(\u001b[38;5;28mself\u001b[39m, robot_controller):\n\u001b[1;32m     88\u001b[0m     \u001b[38;5;28mself\u001b[39m\u001b[38;5;241m.\u001b[39mrobot_controller \u001b[38;5;241m=\u001b[39m robot_controller\n\u001b[0;32m---> 90\u001b[0m     \u001b[38;5;28mself\u001b[39m\u001b[38;5;241m.\u001b[39marm_return_service \u001b[38;5;241m=\u001b[39m \u001b[43mrospy\u001b[49m\u001b[38;5;241;43m.\u001b[39;49m\u001b[43mService\u001b[49m\u001b[43m(\u001b[49m\n\u001b[1;32m     91\u001b[0m \u001b[43m        \u001b[49m\u001b[38;5;124;43m\"\u001b[39;49m\u001b[38;5;124;43mreturn\u001b[39;49m\u001b[38;5;124;43m\"\u001b[39;49m\u001b[43m,\u001b[49m\u001b[43m \u001b[49m\u001b[43mTrigger\u001b[49m\u001b[43m,\u001b[49m\u001b[43m \u001b[49m\u001b[38;5;28;43mself\u001b[39;49m\u001b[38;5;241;43m.\u001b[39;49m\u001b[43mexecute_return_trajectory\u001b[49m\n\u001b[1;32m     92\u001b[0m \u001b[43m    \u001b[49m\u001b[43m)\u001b[49m\n\u001b[1;32m     94\u001b[0m     \u001b[38;5;28mself\u001b[39m\u001b[38;5;241m.\u001b[39marm_touchdown_service \u001b[38;5;241m=\u001b[39m rospy\u001b[38;5;241m.\u001b[39mService(\n\u001b[1;32m     95\u001b[0m         \u001b[38;5;124m\"\u001b[39m\u001b[38;5;124mtouchdown\u001b[39m\u001b[38;5;124m\"\u001b[39m, Trigger, \u001b[38;5;28mself\u001b[39m\u001b[38;5;241m.\u001b[39mexecute_touchdown_trajectory\n\u001b[1;32m     96\u001b[0m     )\n\u001b[1;32m     98\u001b[0m     \u001b[38;5;28mself\u001b[39m\u001b[38;5;241m.\u001b[39mnum_joints \u001b[38;5;241m=\u001b[39m \u001b[38;5;28mlen\u001b[39m(robot_controller\u001b[38;5;241m.\u001b[39mget_joint_angles())\n",
      "File \u001b[0;32m/opt/ros/noetic/lib/python3/dist-packages/rospy/impl/tcpros_service.py:722\u001b[0m, in \u001b[0;36mService.__init__\u001b[0;34m(self, name, service_class, handler, buff_size, error_handler)\u001b[0m\n\u001b[1;32m    718\u001b[0m \u001b[38;5;28msuper\u001b[39m(Service, \u001b[38;5;28mself\u001b[39m)\u001b[38;5;241m.\u001b[39m\u001b[38;5;21m__init__\u001b[39m(name, service_class, handler, buff_size,\n\u001b[1;32m    719\u001b[0m                               error_handler)\n\u001b[1;32m    721\u001b[0m \u001b[38;5;66;03m#TODO: make service manager configurable\u001b[39;00m\n\u001b[0;32m--> 722\u001b[0m \u001b[43mget_service_manager\u001b[49m\u001b[43m(\u001b[49m\u001b[43m)\u001b[49m\u001b[38;5;241;43m.\u001b[39;49m\u001b[43mregister\u001b[49m\u001b[43m(\u001b[49m\u001b[38;5;28;43mself\u001b[39;49m\u001b[38;5;241;43m.\u001b[39;49m\u001b[43mresolved_name\u001b[49m\u001b[43m,\u001b[49m\u001b[43m \u001b[49m\u001b[38;5;28;43mself\u001b[39;49m\u001b[43m)\u001b[49m\n",
      "File \u001b[0;32m/opt/ros/noetic/lib/python3/dist-packages/rospy/service.py:116\u001b[0m, in \u001b[0;36mServiceManager.register\u001b[0;34m(self, resolved_service_name, service)\u001b[0m\n\u001b[1;32m    113\u001b[0m     \u001b[38;5;28mself\u001b[39m\u001b[38;5;241m.\u001b[39mregistration_listeners\u001b[38;5;241m.\u001b[39mnotify_added(resolved_service_name, service\u001b[38;5;241m.\u001b[39muri, Registration\u001b[38;5;241m.\u001b[39mSRV)\n\u001b[1;32m    115\u001b[0m \u001b[38;5;28;01mif\u001b[39;00m err:\n\u001b[0;32m--> 116\u001b[0m     \u001b[38;5;28;01mraise\u001b[39;00m ServiceException(err)\n",
      "\u001b[0;31mServiceException\u001b[0m: service [/return] already registered"
     ]
    }
   ],
   "source": [
    "# Run this cell everytime the arm is restarted\n",
    "rospy.init_node('robot_control_node')\n",
    "\n",
    "robot_controller = RobotController(\"Arm_RML\", \n",
    "                                   [\"J1_base\", \"J2_shoulder\", \"J3_elbow\", 'J4_wrist'], \n",
    "                                   \"config/hrdf/anakin.hrdf\")\n",
    "eft = EndEffectorTrajectory(robot_controller)\n",
    "print(robot_controller.get_joint_angles())\n",
    "#robot_controller.get_effort()"
   ]
  },
  {
   "cell_type": "code",
   "execution_count": 16,
   "id": "29afecee-5cfd-498b-a174-fe6d61d413c9",
   "metadata": {},
   "outputs": [
    {
     "name": "stdout",
     "output_type": "stream",
     "text": [
      "[ 4.63409805  2.93890316 -1.71786976  0.04107219]\n",
      "shutdown request: [/robot_control_node] Reason: new node registered with same name\n"
     ]
    }
   ],
   "source": [
    "print(robot_controller.get_joint_angles())"
   ]
  },
  {
   "cell_type": "code",
   "execution_count": 5,
   "id": "0a81c5db-0118-4b32-a5ce-830f05214dcc",
   "metadata": {},
   "outputs": [
    {
     "name": "stdout",
     "output_type": "stream",
     "text": [
      "[[ 4.74286461  0.07531768 -2.95877361 -0.41710663]\n",
      " [ 4.89363516  0.46017654 -2.18277832 -0.37532043]\n",
      " [ 4.77134418  2.00860817 -2.15998077 -0.29337311]\n",
      " [ 4.73502254  2.63030655 -1.57555866 -0.37532043]]\n"
     ]
    }
   ],
   "source": [
    "eft.positions = np.array([\n",
    "               initial_joint_angles,\n",
    "                [4.79459, 0.39897567, -2.67670345, -0.23143387],\n",
    "                [4.89430189, 0.72055084, -2.27849388, -0.22733116],\n",
    "                [4.83683014, 1.60074646, -2.15341663, -0.23106194],\n",
    "                [4.7667532, 2.01732284, -1.83409595, -0.86559677],\n",
    "                [4.70845413, 2.87031967, -1.8154192, 0.09913826],\n",
    "])\n",
    "\n",
    "print(eft.positions)"
   ]
  },
  {
   "cell_type": "code",
   "execution_count": 7,
   "id": "abb36e11-61ca-4503-83d1-ca7882b9c380",
   "metadata": {},
   "outputs": [
    {
     "ename": "NameError",
     "evalue": "name 'robot_controller' is not defined",
     "output_type": "error",
     "traceback": [
      "\u001b[0;31m---------------------------------------------------------------------------\u001b[0m",
      "\u001b[0;31mNameError\u001b[0m                                 Traceback (most recent call last)",
      "Cell \u001b[0;32mIn[7], line 1\u001b[0m\n\u001b[0;32m----> 1\u001b[0m \u001b[43meft\u001b[49m\u001b[38;5;241;43m.\u001b[39;49m\u001b[43mget_touchdown_trajectory\u001b[49m\u001b[43m(\u001b[49m\u001b[43mtotal_duration\u001b[49m\u001b[38;5;241;43m=\u001b[39;49m\u001b[38;5;241;43m10\u001b[39;49m\u001b[43m)\u001b[49m\n\u001b[1;32m      2\u001b[0m \u001b[38;5;28mprint\u001b[39m(eft\u001b[38;5;241m.\u001b[39mtrajectory\u001b[38;5;241m.\u001b[39mduration)\n",
      "File \u001b[0;32m~/catkin_ws/src/environmental_robot/arm_control/scripts/arm_control.py:102\u001b[0m, in \u001b[0;36mEndEffectorTrajectory.get_touchdown_trajectory\u001b[0;34m(self, total_duration)\u001b[0m\n\u001b[1;32m    100\u001b[0m \u001b[38;5;28;01mdef\u001b[39;00m \u001b[38;5;21mget_touchdown_trajectory\u001b[39m(\u001b[38;5;28mself\u001b[39m, total_duration\u001b[38;5;241m=\u001b[39m\u001b[38;5;241m40\u001b[39m):\n\u001b[0;32m--> 102\u001b[0m     initial_joint_angles \u001b[38;5;241m=\u001b[39m \u001b[43mrobot_controller\u001b[49m\u001b[38;5;241m.\u001b[39mget_joint_angles()\n\u001b[1;32m    104\u001b[0m     \u001b[38;5;28mself\u001b[39m\u001b[38;5;241m.\u001b[39mpositions \u001b[38;5;241m=\u001b[39m np\u001b[38;5;241m.\u001b[39marray(\n\u001b[1;32m    105\u001b[0m         [\n\u001b[1;32m    106\u001b[0m             initial_joint_angles,\n\u001b[0;32m   (...)\u001b[0m\n\u001b[1;32m    112\u001b[0m         ]\n\u001b[1;32m    113\u001b[0m     )\n\u001b[1;32m    115\u001b[0m     positions \u001b[38;5;241m=\u001b[39m \u001b[38;5;28mself\u001b[39m\u001b[38;5;241m.\u001b[39mpositions\u001b[38;5;241m.\u001b[39mT\n",
      "\u001b[0;31mNameError\u001b[0m: name 'robot_controller' is not defined"
     ]
    }
   ],
   "source": [
    "eft.get_touchdown_trajectory(total_duration=10)\n",
    "print(eft.trajectory.duration)\n"
   ]
  },
  {
   "cell_type": "code",
   "execution_count": 96,
   "id": "76ab4053-2cd9-4b91-b2a2-a1f2813a2a82",
   "metadata": {},
   "outputs": [
    {
     "name": "stdout",
     "output_type": "stream",
     "text": [
      "Period: 0.01\n",
      "-----------\n",
      "Sending command at time =  8.009999999999874\n",
      "Current Trajectory State: (array([ 4.73502254,  2.63030655, -1.57555866, -0.37532043]), array([-9.02056208e-17,  1.11022302e-16,  3.33066907e-16, -1.04083409e-17]), array([-1.45716772e-16,  3.88578059e-16,  4.99600361e-16, -4.85722573e-17]))\n",
      "Joint angles:  [ 4.75919437  2.77784378 -1.6389122  -0.41074371]\n",
      "[INFO] [1707342855.262819]: Staying in the last position for 5 seconds...\n"
     ]
    }
   ],
   "source": [
    "cmd = hebi.GroupCommand(eft.num_joints)\n",
    "        \n",
    "period = 0.01\n",
    "t = 0.0\n",
    "duration = eft.trajectory.duration\n",
    "while (t < duration):\n",
    "        # self.robot_controller.group.get_next_feedback(reuse_fbk=self.group_fbk)\n",
    "        eft.pos_cmd, eft.vel_cmd, eft.acc_cmd = eft.trajectory.get_state(t)\n",
    "        \n",
    "        effort = robot_controller.get_effort\n",
    "        #if effort[2] < -4:\n",
    "        #    cmd.mstop_strategy = 2\n",
    "        \n",
    "        cmd.position = eft.pos_cmd\n",
    "        cmd.velocity = eft.vel_cmd\n",
    "        eft.robot_controller.group.send_command(cmd)\n",
    "\n",
    "        t = t + period\n",
    "            \n",
    "\n",
    "eft.execute_trajectory()\n"
   ]
  },
  {
   "cell_type": "code",
   "execution_count": 7,
   "id": "a96c93c8-2ce5-40b8-bbb0-0a45f93a72cf",
   "metadata": {},
   "outputs": [
    {
     "ename": "SyntaxError",
     "evalue": "invalid syntax (<ipython-input-7-c4d07caaa763>, line 3)",
     "output_type": "error",
     "traceback": [
      "\u001b[0;36m  File \u001b[0;32m\"<ipython-input-7-c4d07caaa763>\"\u001b[0;36m, line \u001b[0;32m3\u001b[0m\n\u001b[0;31m    ------ POSITION ARRAY -------\u001b[0m\n\u001b[0m                        ^\u001b[0m\n\u001b[0;31mSyntaxError\u001b[0m\u001b[0;31m:\u001b[0m invalid syntax\n"
     ]
    }
   ],
   "source": [
    "# Working IK Values\n",
    "\n",
    "\n",
    "------ POSITION ARRAY -------\n",
    "[[ 4.73091793  4.89363516  4.77573206  4.74393144]\n",
    " [-0.02057076  0.46017654  1.16832948 -3.78152561]\n",
    " [-3.02600002 -2.18277832 -1.97059152 -1.77164562]\n",
    " [-2.28942299 -1.28403595 -0.78806982 -5.93687081]]\n",
    "------------------------------"
   ]
  },
  {
   "cell_type": "code",
   "execution_count": null,
   "id": "661d0c14-3873-4df5-b614-0642009a09f2",
   "metadata": {},
   "outputs": [],
   "source": [
    "[ 4.73091793, -0.02057076, -3.01241779, -0.37532043]\n",
    "\n",
    "\n",
    "[ 4.74286461,  0.07531768, -2.95877361, -0.41710663], \n",
    "[ 4.89363516,  0.46017654, -2.18277832, -0.37532043],\n",
    "[ 4.77134418,  2.00860817, -2.15998077, -0.29337311],\n",
    "[ 4.73502254,  2.63030655, -1.57555866, -0.37532043]"
   ]
  },
  {
   "cell_type": "code",
   "execution_count": 5,
   "id": "5b94e53a-04ef-4f3e-b0b4-9805944af502",
   "metadata": {
    "jupyter": {
     "source_hidden": true
    },
    "tags": []
   },
   "outputs": [],
   "source": [
    "# eft.target_positions = [\n",
    "#            [0.03, 0.0, 0.4], # home \n",
    "#            [0.03, 0.2, 0.4], # extend\n",
    "#            [0.03, 0.4, 0.0], # extend and move down\n",
    "#             [0.0, 0.4, -0.1] \n",
    "#             only x,y,z coordinates\n",
    "#        ]\n",
    "\n",
    "# Original Constraints\n",
    "# eft.min_positions = [4, -2*np.pi, -2*np.pi, -np.pi/2]\n",
    "# eft.max_positions = [5, 2*np.pi, -1, np.pi/2]\n",
    "            \n",
    "# eft.min_positions = [4, -2*np.pi, -3.05, -np.pi]\n",
    "# eft.max_positions = [5, 2*np.pi, -np.pi/4, np.pi]\n",
    "\n",
    "# eft.get_trajectory(total_duration=40)\n",
    "\n",
    "# print(\"------- POSITION ARRAY -------\")\n",
    "# print(eft.positions)\n",
    "# print(\"------------------------------\\n\")\n",
    "\n",
    "\n",
    "# for t in eft.times:\n",
    "#    if not check_limits(eft.trajectory.get_state(t)[0], \n",
    "#                        np.array(eft.min_positions), \n",
    "#                        np.array(eft.max_positions)):\n",
    "#        print(eft.trajectory.get_state(t)[0])\n",
    "#        print(\"Time = \", t)\n",
    "#        raise (\"Joint Angles not within limits!\")"
   ]
  }
 ],
 "metadata": {
  "kernelspec": {
   "display_name": "Python 3 (ipykernel)",
   "language": "python",
   "name": "python3"
  },
  "language_info": {
   "codemirror_mode": {
    "name": "ipython",
    "version": 3
   },
   "file_extension": ".py",
   "mimetype": "text/x-python",
   "name": "python",
   "nbconvert_exporter": "python",
   "pygments_lexer": "ipython3",
   "version": "3.8.10"
  }
 },
 "nbformat": 4,
 "nbformat_minor": 5
}
