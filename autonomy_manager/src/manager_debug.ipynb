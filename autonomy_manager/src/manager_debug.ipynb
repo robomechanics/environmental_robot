{
 "cells": [
  {
   "cell_type": "code",
   "execution_count": null,
   "id": "f0889d9d-95fc-49f2-82c8-bad5a28fc373",
   "metadata": {},
   "outputs": [],
   "source": [
    "%load_ext autoreload\n",
    "%autoreload 2\n",
    "    \n",
    "from manager import * \n",
    "import rosnode\n",
    "import time"
   ]
  },
  {
   "cell_type": "code",
   "execution_count": null,
   "id": "ce8deb74-cd13-4204-98bb-a92810002931",
   "metadata": {},
   "outputs": [],
   "source": [
    "if '/manager' in rosnode.get_node_names():\n",
    "    # print(\"Manager is running\")\n",
    "    rosnode.kill_nodes(['manager'])\n",
    "    time.sleep(1)\n",
    "\n",
    "m = Manager()"
   ]
  },
  {
   "cell_type": "code",
   "execution_count": null,
   "id": "7ec87d9e-6504-4af6-a5e8-ecdd867e0ec1",
   "metadata": {},
   "outputs": [],
   "source": [
    "if (m.status != SCANNING and \n",
    "    m.status != ARM_RETURNED and \n",
    "    m.status != ERROR):\n",
    "    m.run_once()"
   ]
  },
  {
   "cell_type": "code",
   "execution_count": null,
   "id": "bc136dce-6ad9-408b-b3d6-a2f137e97d06",
   "metadata": {},
   "outputs": [],
   "source": [
    "print(m.searchBoundary)\n",
    "m.send_location_to_GUI(40.442171585082114, -79.94604942914305)"
   ]
  }
 ],
 "metadata": {
  "kernelspec": {
   "display_name": "Python 3 (ipykernel)",
   "language": "python",
   "name": "python3"
  },
  "language_info": {
   "codemirror_mode": {
    "name": "ipython",
    "version": 3
   },
   "file_extension": ".py",
   "mimetype": "text/x-python",
   "name": "python",
   "nbconvert_exporter": "python",
   "pygments_lexer": "ipython3",
   "version": "3.12.4"
  }
 },
 "nbformat": 4,
 "nbformat_minor": 5
}
