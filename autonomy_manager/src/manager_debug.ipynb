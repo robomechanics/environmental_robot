{
 "cells": [
  {
   "cell_type": "code",
   "execution_count": 1,
   "id": "f0889d9d-95fc-49f2-82c8-bad5a28fc373",
   "metadata": {},
   "outputs": [],
   "source": [
    "%load_ext autoreload\n",
    "%autoreload 2\n",
    "    \n",
    "from manager import * \n",
    "import rosnode\n",
    "import time\n",
    "from env_utils.algo_constants import *\n"
   ]
  },
  {
   "cell_type": "code",
   "execution_count": 2,
   "id": "ce8deb74-cd13-4204-98bb-a92810002931",
   "metadata": {},
   "outputs": [
    {
     "name": "stdout",
     "output_type": "stream",
     "text": [
      " | Waiting for move_base server\n",
      "[INFO] [1725919733.643321]: GPS Full Navigation Achieved!\n",
      "[INFO] [1725919733.647532]:  | Algorithm Set to ADAPTIVE with number of samples = 16\n",
      "[INFO] [1725919733.648442]: ----------- READY -----------\n"
     ]
    },
    {
     "name": "stderr",
     "output_type": "stream",
     "text": [
      "[WARN] [1725919733.645559]: >>> USING FAKE HARDWARE <<<<\n",
      "[WARN] [1725919733.646585]: Fake Hardware Flags: ['fake_arm', 'fake_pxrf']\n"
     ]
    },
    {
     "name": "stdout",
     "output_type": "stream",
     "text": [
      "| Reset \n",
      "[INFO] [1725919747.539083]: ----------------\n",
      " Boundary Points:\n",
      " [(40.4421389727242, -79.94606451477283), (40.44226777271023, -79.94601767225954), (40.44225684772099, -79.94596403002659), (40.44213264771853, -79.94603013841227)]\n",
      "----------------\n",
      "[INFO] [1725919748.170354]: Width: 9 m | 36 cells\n",
      "[INFO] [1725919748.171727]: Height: 16 m | : 64 cells\n",
      "[INFO] [1725919748.172698]: Start: (2.2620907380478457, 2.3502929918468) m | (8, 8) cells\n",
      "[INFO] [1725919748.173532]: Boundary Offset (MAP): [[0.0, 0.6672946196049452], [3.802040228853002, 15.011726554483175], [8.365844454383478, 13.85332749504596], [2.9238006082596257, 0.0]]\n",
      "[INFO] [1725919748.174590]: Boundary Offset (GRID): [(0, 1), (14, 59), (32, 54), (10, 0)]\n",
      "[INFO] [1725919748.193264]: \u001b[44mlengths of x1 | x2 | x1x2: 36 | 64 | (2304, 2) \u001b[0m\n"
     ]
    }
   ],
   "source": [
    "if '/manager' in rosnode.get_node_names():\n",
    "    # print(\"Manager is running\")\n",
    "    rosnode.kill_nodes(['manager'])\n",
    "    time.sleep(1)\n",
    "\n",
    "m = Manager([FAKE_ARM, FAKE_PXRF])\n",
    "# m.fake_pxrf_values = [0.13, 0.2, 0.0, 0.5, 0.6, 0.05]\n",
    "m.fake_pxrf_values = [0.13, 0.2, 0.0, 0.5, 0.02, 0.5, 0.32]\n",
    "\n"
   ]
  },
  {
   "cell_type": "code",
   "execution_count": 4,
   "id": "7ec87d9e-6504-4af6-a5e8-ecdd867e0ec1",
   "metadata": {},
   "outputs": [
    {
     "name": "stdout",
     "output_type": "stream",
     "text": [
      "[INFO] [1725919172.687482]: \u001b[43m\u001b[30m----------- Manager Loop: adaptive -----------\u001b[0m\n",
      "[INFO] [1725919172.690097]:  | Goal Sent to movebase...\n",
      "[INFO] [1725919192.841409]:  | Movebase Goal Reached\n",
      "[INFO] [1725919192.842474]: ----------- Manager Loop END -----------\n"
     ]
    }
   ],
   "source": [
    "if (m.status != SCANNING and \n",
    "    m.status != ARM_RETURNED and \n",
    "    m.status != ERROR):\n",
    "    m.run_once()"
   ]
  },
  {
   "cell_type": "code",
   "execution_count": 4,
   "id": "e4756d62-474f-452d-9900-998b84c210fc",
   "metadata": {},
   "outputs": [
    {
     "name": "stdout",
     "output_type": "stream",
     "text": [
      "[INFO] [1725919825.397010]: \u001b[43m\u001b[30m----------- Manager Loop: adaptive -----------\u001b[0m\n",
      "[INFO] [1725919825.528841]: \u001b[42m\u001b[30m | Sending Adaptive Algorithm Location (GPS|Map|Grid): (40.44216972862946, -79.94602129122296) | (3.625, 4.125) | [14, 16] \u001b[0m\n",
      "[INFO] [1725919825.560624]:  Next Scan Location: [14, 16]\n",
      "[INFO] [1725919825.561546]: ----------- Manager Loop END -----------\n",
      "[INFO] [1725919825.563061]: \u001b[43m\u001b[30m----------- Manager Loop: adaptive -----------\u001b[0m\n",
      "[INFO] [1725919825.565421]:  | Goal Sent to movebase...\n",
      "[INFO] [1725919843.266276]:  | Movebase Goal Reached\n",
      "[INFO] [1725919843.267685]: ----------- Manager Loop END -----------\n",
      "[INFO] [1725919843.269262]: \u001b[43m\u001b[30m----------- Manager Loop: adaptive -----------\u001b[0m\n",
      "PXRF Mean Value: 0.13\n",
      "[INFO] [1725919843.270240]: ----------- Manager Loop END -----------\n",
      "[INFO] [1725919843.271738]: \u001b[43m\u001b[30m----------- Manager Loop: adaptive -----------\u001b[0m\n",
      "[INFO] [1725919843.345356]: \u001b[43m\u001b[30m | Updating GPR with value=0.13 at (GPS|Map|Grid): (40.44216766186511, -79.94602007648515) | (3.7279889220371842, 3.894772603176534) | (13, 14) \u001b[0m\n"
     ]
    },
    {
     "name": "stderr",
     "output_type": "stream",
     "text": [
      "/home/patrick/.local/lib/python3.8/site-packages/sklearn/gaussian_process/kernels.py:419: ConvergenceWarning: The optimal value found for dimension 0 of parameter length_scale is close to the specified lower bound 1e-05. Decreasing the bound and calling fit again may find a better value.\n",
      "  warnings.warn(\n"
     ]
    },
    {
     "name": "stdout",
     "output_type": "stream",
     "text": [
      "[INFO] [1725919843.503790]: \u001b[42m\u001b[30m | Sending Adaptive Algorithm Location (GPS|Map|Grid): (40.44217897808025, -79.94604767699235) | (1.375, 5.125) | [5, 20] \u001b[0m\n",
      "[INFO] [1725919843.534957]:  Next Scan Location: [5, 20]\n",
      "[INFO] [1725919843.535893]: ----------- Manager Loop END -----------\n",
      "[INFO] [1725919843.537445]: \u001b[43m\u001b[30m----------- Manager Loop: adaptive -----------\u001b[0m\n",
      "[INFO] [1725919843.539398]:  | Goal Sent to movebase...\n",
      "[INFO] [1725919861.390587]:  | Movebase Goal Reached\n",
      "[INFO] [1725919861.391911]: ----------- Manager Loop END -----------\n",
      "[INFO] [1725919861.393385]: \u001b[43m\u001b[30m----------- Manager Loop: adaptive -----------\u001b[0m\n",
      "PXRF Mean Value: 0.2\n",
      "[INFO] [1725919861.394466]: ----------- Manager Loop END -----------\n",
      "[INFO] [1725919861.396104]: \u001b[43m\u001b[30m----------- Manager Loop: adaptive -----------\u001b[0m\n",
      "[INFO] [1725919861.465555]: \u001b[43m\u001b[30m | Updating GPR with value=0.2 at (GPS|Map|Grid): (40.44217714776949, -79.94604715421391) | (1.4201948274858296, 4.925055397674441) | (4, 18) \u001b[0m\n"
     ]
    },
    {
     "name": "stderr",
     "output_type": "stream",
     "text": [
      "/home/patrick/.local/lib/python3.8/site-packages/sklearn/gaussian_process/kernels.py:419: ConvergenceWarning: The optimal value found for dimension 0 of parameter length_scale is close to the specified lower bound 1e-05. Decreasing the bound and calling fit again may find a better value.\n",
      "  warnings.warn(\n"
     ]
    },
    {
     "name": "stdout",
     "output_type": "stream",
     "text": [
      "[INFO] [1725919861.595420]: \u001b[42m\u001b[30m | Sending Adaptive Algorithm Location (GPS|Map|Grid): (40.442151982199064, -79.94605104645782) | (1.125, 2.125) | [4, 8] \u001b[0m\n",
      "[INFO] [1725919861.628473]:  Next Scan Location: [4, 8]\n",
      "[INFO] [1725919861.629355]: ----------- Manager Loop END -----------\n",
      "[INFO] [1725919861.630676]: \u001b[43m\u001b[30m----------- Manager Loop: adaptive -----------\u001b[0m\n",
      "[INFO] [1725919861.632734]:  | Goal Sent to movebase...\n",
      "[INFO] [1725919876.833686]:  | Movebase Goal Reached\n",
      "[INFO] [1725919876.835004]: ----------- Manager Loop END -----------\n",
      "[INFO] [1725919876.836751]: \u001b[43m\u001b[30m----------- Manager Loop: adaptive -----------\u001b[0m\n",
      "PXRF Mean Value: 0.0\n",
      "[INFO] [1725919876.837932]: ----------- Manager Loop END -----------\n",
      "[INFO] [1725919876.839617]: \u001b[43m\u001b[30m----------- Manager Loop: adaptive -----------\u001b[0m\n",
      "[INFO] [1725919876.918276]: \u001b[43m\u001b[30m | Updating GPR with value=0.0 at (GPS|Map|Grid): (40.442153550443315, -79.94605431216587) | (0.842505584936589, 2.2951824348419905) | (2, 8) \u001b[0m\n",
      "[INFO] [1725919877.167113]: \u001b[42m\u001b[30m | Sending Adaptive Algorithm Location (GPS|Map|Grid): (40.442181149355164, -79.94603879966294) | (2.125, 5.375) | [8, 21] \u001b[0m\n",
      "[INFO] [1725919877.194659]:  Next Scan Location: [8, 21]\n",
      "[INFO] [1725919877.195621]: ----------- Manager Loop END -----------\n",
      "[INFO] [1725919877.197140]: \u001b[43m\u001b[30m----------- Manager Loop: adaptive -----------\u001b[0m\n",
      "[INFO] [1725919877.199284]:  | Goal Sent to movebase...\n",
      "[INFO] [1725919890.850517]:  | Movebase Goal Reached\n",
      "[INFO] [1725919890.851829]: ----------- Manager Loop END -----------\n",
      "[INFO] [1725919890.853221]: \u001b[43m\u001b[30m----------- Manager Loop: adaptive -----------\u001b[0m\n",
      "PXRF Mean Value: 0.5\n",
      "[INFO] [1725919890.853985]: ----------- Manager Loop END -----------\n",
      "[INFO] [1725919890.855304]: \u001b[43m\u001b[30m----------- Manager Loop: adaptive -----------\u001b[0m\n",
      "[INFO] [1725919890.926522]: \u001b[43m\u001b[30m | Updating GPR with value=0.5 at (GPS|Map|Grid): (40.442180395193226, -79.94604158127467) | (1.8900936910649762, 5.288471447303891) | (6, 20) \u001b[0m\n"
     ]
    },
    {
     "name": "stderr",
     "output_type": "stream",
     "text": [
      "/home/patrick/.local/lib/python3.8/site-packages/sklearn/gaussian_process/_gpr.py:479: UserWarning: Predicted variances smaller than 0. Setting those variances to 0.\n",
      "  warnings.warn(\n"
     ]
    },
    {
     "name": "stdout",
     "output_type": "stream",
     "text": [
      "[INFO] [1725919891.159903]: \u001b[42m\u001b[30m | Sending Adaptive Algorithm Location (GPS|Map|Grid): (40.44219224759152, -79.94602093947931) | (3.625, 6.625) | [14, 26] \u001b[0m\n",
      "[INFO] [1725919891.191921]:  Next Scan Location: [14, 26]\n",
      "[INFO] [1725919891.192836]: ----------- Manager Loop END -----------\n",
      "[INFO] [1725919891.194033]: \u001b[43m\u001b[30m----------- Manager Loop: adaptive -----------\u001b[0m\n",
      "[INFO] [1725919891.196419]:  | Goal Sent to movebase...\n",
      "[INFO] [1725919902.597538]:  | Movebase Goal Reached\n",
      "[INFO] [1725919902.598780]: ----------- Manager Loop END -----------\n",
      "[INFO] [1725919902.600565]: \u001b[43m\u001b[30m----------- Manager Loop: adaptive -----------\u001b[0m\n",
      "PXRF Mean Value: 0.02\n",
      "[INFO] [1725919902.601632]: ----------- Manager Loop END -----------\n",
      "[INFO] [1725919902.602982]: \u001b[43m\u001b[30m----------- Manager Loop: adaptive -----------\u001b[0m\n",
      "[INFO] [1725919902.672382]: \u001b[43m\u001b[30m | Updating GPR with value=0.02 at (GPS|Map|Grid): (40.44219367518547, -79.94602323709984) | (3.4282503065187484, 6.781139956787229) | (12, 26) \u001b[0m\n"
     ]
    },
    {
     "name": "stderr",
     "output_type": "stream",
     "text": [
      "/home/patrick/.local/lib/python3.8/site-packages/sklearn/gaussian_process/_gpr.py:479: UserWarning: Predicted variances smaller than 0. Setting those variances to 0.\n",
      "  warnings.warn(\n"
     ]
    },
    {
     "name": "stdout",
     "output_type": "stream",
     "text": [
      "[INFO] [1725919902.851681]: \u001b[42m\u001b[30m | Sending Adaptive Algorithm Location (GPS|Map|Grid): (40.44217444741412, -79.94604479995428) | (1.625, 4.625) | [6, 18] \u001b[0m\n",
      "[INFO] [1725919902.876375]:  Next Scan Location: [6, 18]\n",
      "[INFO] [1725919902.877271]: ----------- Manager Loop END -----------\n",
      "[INFO] [1725919902.878681]: \u001b[43m\u001b[30m----------- Manager Loop: adaptive -----------\u001b[0m\n",
      "[INFO] [1725919902.880979]:  | Goal Sent to movebase...\n",
      "[INFO] [1725919922.682086]:  | Movebase Goal Reached\n",
      "[INFO] [1725919922.683268]: ----------- Manager Loop END -----------\n",
      "[INFO] [1725919922.684867]: \u001b[43m\u001b[30m----------- Manager Loop: adaptive -----------\u001b[0m\n",
      "PXRF Mean Value: 0.5\n",
      "[INFO] [1725919922.685890]: ----------- Manager Loop END -----------\n",
      "[INFO] [1725919922.687181]: \u001b[43m\u001b[30m----------- Manager Loop: adaptive -----------\u001b[0m\n",
      "[INFO] [1725919922.750690]: \u001b[43m\u001b[30m | Updating GPR with value=0.5 at (GPS|Map|Grid): (40.44217339786025, -79.94604558914881) | (1.5581025978317484, 4.506610865704715) | (5, 17) \u001b[0m\n"
     ]
    },
    {
     "name": "stderr",
     "output_type": "stream",
     "text": [
      "/home/patrick/.local/lib/python3.8/site-packages/sklearn/gaussian_process/_gpr.py:479: UserWarning: Predicted variances smaller than 0. Setting those variances to 0.\n",
      "  warnings.warn(\n"
     ]
    },
    {
     "name": "stdout",
     "output_type": "stream",
     "text": [
      "[INFO] [1725919922.911226]: \u001b[42m\u001b[30m | Sending Adaptive Algorithm Location (GPS|Map|Grid): (40.44217195365131, -79.94601830866372) | (3.875, 4.375) | [15, 17] \u001b[0m\n",
      "[INFO] [1725919922.968736]:  Next Scan Location: [15, 17]\n",
      "[INFO] [1725919922.969692]: ----------- Manager Loop END -----------\n",
      "[INFO] [1725919922.971203]: \u001b[43m\u001b[30m----------- Manager Loop: adaptive -----------\u001b[0m\n",
      "[INFO] [1725919922.973465]:  | Goal Sent to movebase...\n",
      "[INFO] [1725919934.174493]:  | Movebase Goal Reached\n",
      "[INFO] [1725919934.175806]: ----------- Manager Loop END -----------\n"
     ]
    }
   ],
   "source": [
    "for i in range(0,20):\n",
    "    if (m.status != SCANNING and\n",
    "        m.status != ERROR):\n",
    "        m.run_once()"
   ]
  },
  {
   "cell_type": "code",
   "execution_count": 5,
   "id": "bc136dce-6ad9-408b-b3d6-a2f137e97d06",
   "metadata": {},
   "outputs": [
    {
     "data": {
      "image/png": "[encoded data removed]",
      "text/plain": [
       "<Figure size 1200x1000 with 2 Axes>"
      ]
     },
     "metadata": {},
     "output_type": "display_data"
    },
    {
     "name": "stdout",
     "output_type": "stream",
     "text": [
      "Sampled at [5, 17] with value = 0.5\n",
      "Adaptive Norm Range: 0.5000\n"
     ]
    }
   ],
   "source": [
    "m.show()"
   ]
  },
  {
   "cell_type": "code",
   "execution_count": null,
   "id": "4d3213fc-15fd-4007-aa3f-02b105871551",
   "metadata": {},
   "outputs": [],
   "source": [
    "print(m.searchBoundary)\n",
    "m.send_location_to_GUI(40.442171585082114, -79.94604942914305)"
   ]
  },
  {
   "cell_type": "code",
   "execution_count": 4,
   "id": "522b45e6-b896-4ad9-ad86-9568cf3c97b6",
   "metadata": {},
   "outputs": [
    {
     "ename": "NameError",
     "evalue": "name 'm' is not defined",
     "output_type": "error",
     "traceback": [
      "\u001b[0;31m---------------------------------------------------------------------------\u001b[0m",
      "\u001b[0;31mNameError\u001b[0m                                 Traceback (most recent call last)",
      "Cell \u001b[0;32mIn[4], line 1\u001b[0m\n\u001b[0;32m----> 1\u001b[0m \u001b[43mm\u001b[49m\u001b[38;5;241m.\u001b[39madaptiveROS\u001b[38;5;241m.\u001b[39mmu\n",
      "\u001b[0;31mNameError\u001b[0m: name 'm' is not defined"
     ]
    }
   ],
   "source": [
    "m.adaptiveROS.mu"
   ]
  },
  {
   "cell_type": "code",
   "execution_count": null,
   "id": "2db97717-46da-43bf-99ab-57c7373672a1",
   "metadata": {},
   "outputs": [],
   "source": []
  }
 ],
 "metadata": {
  "kernelspec": {
   "display_name": "Python 3 (ipykernel)",
   "language": "python",
   "name": "python3"
  },
  "language_info": {
   "codemirror_mode": {
    "name": "ipython",
    "version": 3
   },
   "file_extension": ".py",
   "mimetype": "text/x-python",
   "name": "python",
   "nbconvert_exporter": "python",
   "pygments_lexer": "ipython3",
   "version": "3.8.10"
  }
 },
 "nbformat": 4,
 "nbformat_minor": 5
}
