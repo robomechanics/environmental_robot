{
 "cells": [
  {
   "cell_type": "code",
   "execution_count": 116,
   "id": "014fc9db-273a-4908-bc2f-a19e92af6f3d",
   "metadata": {},
   "outputs": [
    {
     "name": "stdout",
     "output_type": "stream",
     "text": [
      "The autoreload extension is already loaded. To reload it, use:\n",
      "  %reload_ext autoreload\n"
     ]
    }
   ],
   "source": [
    "%load_ext autoreload\n",
    "%autoreload 2\n",
    "\n",
    "from arm_touchdown import *"
   ]
  },
  {
   "cell_type": "code",
   "execution_count": 117,
   "id": "f95ea6f9-a60f-4bd1-88d1-6c35e1e24a35",
   "metadata": {},
   "outputs": [],
   "source": [
    "def check_limits(joint_angles, min_constraints, max_constraints):\n",
    "    if(np.alltrue(joint_angles>min_constraints) and \n",
    "       np.alltrue(joint_angles<max_constraints)):\n",
    "        return True\n",
    "    else:\n",
    "        return False"
   ]
  },
  {
   "cell_type": "code",
   "execution_count": 118,
   "id": "f4a52c15-817d-465d-8f3c-fe95cfc164ba",
   "metadata": {},
   "outputs": [],
   "source": [
    "# Run this cell everytime the arm is restarted\n",
    "rospy.init_node('robot_control_node')\n",
    "\n",
    "robot_controller = RobotController(\"Arm_RML\", \n",
    "                                   [\"J1_base\", \"J2_shoulder\", \"J3_elbow\", 'J4_wrist'], \n",
    "                                   \"/home/patrick/catkin_ws/src/hebi/arm_control/config/hrdf/anakin.hrdf\")\n",
    "eft = EndEffectorTrajectory(robot_controller)"
   ]
  },
  {
   "cell_type": "code",
   "execution_count": 113,
   "id": "5b94e53a-04ef-4f3e-b0b4-9805944af502",
   "metadata": {
    "jupyter": {
     "source_hidden": true
    },
    "tags": []
   },
   "outputs": [],
   "source": [
    "# eft.target_positions = [\n",
    "#            [0.03, 0.0, 0.4], # home \n",
    "#            [0.03, 0.2, 0.4], # extend\n",
    "#            [0.03, 0.4, 0.0], # extend and move down\n",
    "#             [0.0, 0.4, -0.1] \n",
    "#             only x,y,z coordinates\n",
    "#        ]\n",
    "\n",
    "# Original Constraints\n",
    "# eft.min_positions = [4, -2*np.pi, -2*np.pi, -np.pi/2]\n",
    "# eft.max_positions = [5, 2*np.pi, -1, np.pi/2]\n",
    "            \n",
    "# eft.min_positions = [4, -2*np.pi, -3.05, -np.pi]\n",
    "# eft.max_positions = [5, 2*np.pi, -np.pi/4, np.pi]\n",
    "\n",
    "# eft.get_trajectory(total_duration=40)\n",
    "\n",
    "# print(\"------- POSITION ARRAY -------\")\n",
    "# print(eft.positions)\n",
    "# print(\"------------------------------\\n\")\n",
    "\n",
    "\n",
    "# for t in eft.times:\n",
    "#    if not check_limits(eft.trajectory.get_state(t)[0], \n",
    "#                        np.array(eft.min_positions), \n",
    "#                        np.array(eft.max_positions)):\n",
    "#        print(eft.trajectory.get_state(t)[0])\n",
    "#        print(\"Time = \", t)\n",
    "#        raise (\"Joint Angles not within limits!\")"
   ]
  },
  {
   "cell_type": "code",
   "execution_count": 119,
   "id": "0a81c5db-0118-4b32-a5ce-830f05214dcc",
   "metadata": {},
   "outputs": [
    {
     "name": "stdout",
     "output_type": "stream",
     "text": [
      "[[ 4.73091793  4.89363516  4.77573206  4.74393144]\n",
      " [-0.02057076  0.46017654  1.16832948 -3.78152561]\n",
      " [-3.02600002 -2.18277832 -1.97059152 -1.77164562]\n",
      " [-1.28942299 -1.28403595 -0.78806982 -5.93687081]]\n"
     ]
    }
   ],
   "source": [
    "eft.positions = np.array([\n",
    "            [ 4.73091793,  4.89363516,  4.77573206,  4.74393144],\n",
    "            [-0.02057076,  0.46017654,  1.16832948, -3.78152561],\n",
    "            [-3.02600002, -2.18277832, -1.97059152, -1.77164562],\n",
    "            [-1.28942299, -1.28403595, -0.78806982, -5.93687081]\n",
    "        ])\n",
    "print(eft.positions)"
   ]
  },
  {
   "cell_type": "code",
   "execution_count": 120,
   "id": "abb36e11-61ca-4503-83d1-ca7882b9c380",
   "metadata": {},
   "outputs": [
    {
     "name": "stdout",
     "output_type": "stream",
     "text": [
      "[ 4.73428154 -0.02085781 -3.03080463 -1.23718262]\n",
      "20.0\n",
      "Period: 0.01\n",
      "-----------\n",
      "Sending command at time =  20.000000000000327\n",
      "Current Trajectory State: (array([ 4.74393144, -3.78152561, -1.77164562, -5.93687081]), array([ 0.00000000e+00, -1.99840144e-15,  2.04697370e-16, -4.44089210e-16]), array([-5.20417043e-18, -6.10622664e-16,  4.51028104e-17, -1.11022302e-16]))\n",
      "Joint angles:  [ 4.75630474  0.96909362 -2.0831356  -1.17956161]\n",
      "[INFO] [1707183167.091612]: Staying in the last position for 5 seconds...\n"
     ]
    }
   ],
   "source": [
    "eft.get_trajectory(total_duration=20)\n",
    "print(eft.trajectory.duration)\n",
    "\n",
    "eft.execute_trajectory()"
   ]
  },
  {
   "cell_type": "code",
   "execution_count": 76,
   "id": "76ab4053-2cd9-4b91-b2a2-a1f2813a2a82",
   "metadata": {},
   "outputs": [
    {
     "data": {
      "text/plain": [
       "(array([ 4.7414745 , -3.08627016, -1.81015301, -5.23121537]),\n",
       " array([ 0.00072405, -0.35004158,  0.01848502, -0.35659696]),\n",
       " array([ 0.0002495 ,  0.08992833, -0.00400027,  0.09272972]))"
      ]
     },
     "execution_count": 76,
     "metadata": {},
     "output_type": "execute_result"
    }
   ],
   "source": [
    "eft.trajectory.get_state(35)"
   ]
  },
  {
   "cell_type": "code",
   "execution_count": null,
   "id": "a96c93c8-2ce5-40b8-bbb0-0a45f93a72cf",
   "metadata": {},
   "outputs": [],
   "source": [
    "# Working IK Values\n",
    "\n",
    "------ POSITION ARRAY -------\n",
    "[[ 4.73091793  4.89363516  4.77573206  4.74393144]\n",
    " [-0.02057076  0.46017654  1.16832948 -3.78152561]\n",
    " [-3.02600002 -2.18277832 -1.97059152 -1.77164562]\n",
    " [-2.28942299 -1.28403595 -0.78806982 -5.93687081]]\n",
    "------------------------------"
   ]
  },
  {
   "cell_type": "code",
   "execution_count": null,
   "id": "661d0c14-3873-4df5-b614-0642009a09f2",
   "metadata": {},
   "outputs": [],
   "source": []
  }
 ],
 "metadata": {
  "kernelspec": {
   "display_name": "Python 3",
   "language": "python",
   "name": "python3"
  },
  "language_info": {
   "codemirror_mode": {
    "name": "ipython",
    "version": 3
   },
   "file_extension": ".py",
   "mimetype": "text/x-python",
   "name": "python",
   "nbconvert_exporter": "python",
   "pygments_lexer": "ipython3",
   "version": "3.6.9"
  }
 },
 "nbformat": 4,
 "nbformat_minor": 5
}
