{
 "cells": [
  {
   "cell_type": "code",
   "execution_count": 91,
   "id": "014fc9db-273a-4908-bc2f-a19e92af6f3d",
   "metadata": {},
   "outputs": [
    {
     "name": "stdout",
     "output_type": "stream",
     "text": [
      "The autoreload extension is already loaded. To reload it, use:\n",
      "  %reload_ext autoreload\n"
     ]
    }
   ],
   "source": [
    "%load_ext autoreload\n",
    "%autoreload 2\n",
    "\n",
    "from arm_touchdown import *"
   ]
  },
  {
   "cell_type": "code",
   "execution_count": 92,
   "id": "f95ea6f9-a60f-4bd1-88d1-6c35e1e24a35",
   "metadata": {},
   "outputs": [],
   "source": [
    "def check_limits(joint_angles, min_constraints, max_constraints):\n",
    "    if(np.alltrue(joint_angles>min_constraints) and \n",
    "       np.alltrue(joint_angles<max_constraints)):\n",
    "        return True\n",
    "    else:\n",
    "        return False"
   ]
  },
  {
   "cell_type": "code",
   "execution_count": 93,
   "id": "f4a52c15-817d-465d-8f3c-fe95cfc164ba",
   "metadata": {},
   "outputs": [
    {
     "name": "stdout",
     "output_type": "stream",
     "text": [
      "Gains path:  /home/patrick/catkin_ws/src/hebi/arm_control/config/gains/anakin_gains.xml\n",
      "[ 4.73633242 -0.02016449 -3.01352787 -0.41283035]\n",
      "[INFO] [1707342831.923378]: Effort: [ 0.5717211  -0.45296198 -0.05790221  0.26890376]\n"
     ]
    },
    {
     "data": {
      "text/plain": [
       "array([ 0.5717211 , -0.45296198, -0.05790221,  0.26890376], dtype=float32)"
      ]
     },
     "execution_count": 93,
     "metadata": {},
     "output_type": "execute_result"
    }
   ],
   "source": [
    "# Run this cell everytime the arm is restarted\n",
    "rospy.init_node('robot_control_node')\n",
    "\n",
    "robot_controller = RobotController(\"Arm_RML\", \n",
    "                                   [\"J1_base\", \"J2_shoulder\", \"J3_elbow\", 'J4_wrist'], \n",
    "                                   \"/home/patrick/catkin_ws/src/hebi/arm_control/config/hrdf/anakin.hrdf\")\n",
    "eft = EndEffectorTrajectory(robot_controller)\n",
    "print(robot_controller.get_joint_angles())\n",
    "robot_controller.get_effort()"
   ]
  },
  {
   "cell_type": "code",
   "execution_count": 94,
   "id": "0a81c5db-0118-4b32-a5ce-830f05214dcc",
   "metadata": {},
   "outputs": [
    {
     "name": "stdout",
     "output_type": "stream",
     "text": [
      "[[ 4.74286461  0.07531768 -2.95877361 -0.41710663]\n",
      " [ 4.89363516  0.46017654 -2.18277832 -0.37532043]\n",
      " [ 4.77134418  2.00860817 -2.15998077 -0.29337311]\n",
      " [ 4.73502254  2.63030655 -1.57555866 -0.37532043]]\n"
     ]
    }
   ],
   "source": [
    "eft.positions = np.array([\n",
    "   [ 4.74286461,  0.07531768, -2.95877361, -0.41710663], \n",
    "   [ 4.89363516,  0.46017654, -2.18277832, -0.37532043],\n",
    "   [ 4.77134418,  2.00860817, -2.15998077, -0.29337311],\n",
    "   [ 4.73502254,  2.63030655, -1.57555866, -0.37532043]\n",
    "])\n",
    "\n",
    "print(eft.positions)"
   ]
  },
  {
   "cell_type": "code",
   "execution_count": 95,
   "id": "abb36e11-61ca-4503-83d1-ca7882b9c380",
   "metadata": {},
   "outputs": [
    {
     "name": "stdout",
     "output_type": "stream",
     "text": [
      "[ 4.73637581 -0.02020645 -3.01361752 -0.41279793]\n",
      "8.0\n"
     ]
    }
   ],
   "source": [
    "eft.get_trajectory(total_duration=8)\n",
    "print(eft.trajectory.duration)\n"
   ]
  },
  {
   "cell_type": "code",
   "execution_count": 96,
   "id": "76ab4053-2cd9-4b91-b2a2-a1f2813a2a82",
   "metadata": {},
   "outputs": [
    {
     "name": "stdout",
     "output_type": "stream",
     "text": [
      "Period: 0.01\n",
      "-----------\n",
      "Sending command at time =  8.009999999999874\n",
      "Current Trajectory State: (array([ 4.73502254,  2.63030655, -1.57555866, -0.37532043]), array([-9.02056208e-17,  1.11022302e-16,  3.33066907e-16, -1.04083409e-17]), array([-1.45716772e-16,  3.88578059e-16,  4.99600361e-16, -4.85722573e-17]))\n",
      "Joint angles:  [ 4.75919437  2.77784378 -1.6389122  -0.41074371]\n",
      "[INFO] [1707342855.262819]: Staying in the last position for 5 seconds...\n"
     ]
    }
   ],
   "source": [
    "cmd = hebi.GroupCommand(eft.num_joints)\n",
    "        \n",
    "period = 0.01\n",
    "t = 0.0\n",
    "duration = eft.trajectory.duration\n",
    "while (t < duration):\n",
    "        # self.robot_controller.group.get_next_feedback(reuse_fbk=self.group_fbk)\n",
    "        eft.pos_cmd, eft.vel_cmd, eft.acc_cmd = eft.trajectory.get_state(t)\n",
    "        \n",
    "        effort = robot_controller.get_effort\n",
    "        #if effort[2] < -4:\n",
    "        #    cmd.mstop_strategy = 2\n",
    "        \n",
    "        cmd.position = eft.pos_cmd\n",
    "        cmd.velocity = eft.vel_cmd\n",
    "        eft.robot_controller.group.send_command(cmd)\n",
    "\n",
    "        t = t + period\n",
    "            \n",
    "\n",
    "eft.execute_trajectory()\n"
   ]
  },
  {
   "cell_type": "code",
   "execution_count": 7,
   "id": "a96c93c8-2ce5-40b8-bbb0-0a45f93a72cf",
   "metadata": {},
   "outputs": [
    {
     "ename": "SyntaxError",
     "evalue": "invalid syntax (<ipython-input-7-c4d07caaa763>, line 3)",
     "output_type": "error",
     "traceback": [
      "\u001b[0;36m  File \u001b[0;32m\"<ipython-input-7-c4d07caaa763>\"\u001b[0;36m, line \u001b[0;32m3\u001b[0m\n\u001b[0;31m    ------ POSITION ARRAY -------\u001b[0m\n\u001b[0m                        ^\u001b[0m\n\u001b[0;31mSyntaxError\u001b[0m\u001b[0;31m:\u001b[0m invalid syntax\n"
     ]
    }
   ],
   "source": [
    "# Working IK Values\n",
    "\n",
    "\n",
    "------ POSITION ARRAY -------\n",
    "[[ 4.73091793  4.89363516  4.77573206  4.74393144]\n",
    " [-0.02057076  0.46017654  1.16832948 -3.78152561]\n",
    " [-3.02600002 -2.18277832 -1.97059152 -1.77164562]\n",
    " [-2.28942299 -1.28403595 -0.78806982 -5.93687081]]\n",
    "------------------------------"
   ]
  },
  {
   "cell_type": "code",
   "execution_count": null,
   "id": "661d0c14-3873-4df5-b614-0642009a09f2",
   "metadata": {},
   "outputs": [],
   "source": [
    "[ 4.73091793, -0.02057076, -3.01241779, -0.37532043]\n",
    "\n",
    "\n",
    "[ 4.74286461,  0.07531768, -2.95877361, -0.41710663], \n",
    "[ 4.89363516,  0.46017654, -2.18277832, -0.37532043],\n",
    "[ 4.77134418,  2.00860817, -2.15998077, -0.29337311],\n",
    "[ 4.73502254,  2.63030655, -1.57555866, -0.37532043]"
   ]
  },
  {
   "cell_type": "code",
   "execution_count": 5,
   "id": "5b94e53a-04ef-4f3e-b0b4-9805944af502",
   "metadata": {
    "jupyter": {
     "source_hidden": true
    },
    "tags": []
   },
   "outputs": [],
   "source": [
    "# eft.target_positions = [\n",
    "#            [0.03, 0.0, 0.4], # home \n",
    "#            [0.03, 0.2, 0.4], # extend\n",
    "#            [0.03, 0.4, 0.0], # extend and move down\n",
    "#             [0.0, 0.4, -0.1] \n",
    "#             only x,y,z coordinates\n",
    "#        ]\n",
    "\n",
    "# Original Constraints\n",
    "# eft.min_positions = [4, -2*np.pi, -2*np.pi, -np.pi/2]\n",
    "# eft.max_positions = [5, 2*np.pi, -1, np.pi/2]\n",
    "            \n",
    "# eft.min_positions = [4, -2*np.pi, -3.05, -np.pi]\n",
    "# eft.max_positions = [5, 2*np.pi, -np.pi/4, np.pi]\n",
    "\n",
    "# eft.get_trajectory(total_duration=40)\n",
    "\n",
    "# print(\"------- POSITION ARRAY -------\")\n",
    "# print(eft.positions)\n",
    "# print(\"------------------------------\\n\")\n",
    "\n",
    "\n",
    "# for t in eft.times:\n",
    "#    if not check_limits(eft.trajectory.get_state(t)[0], \n",
    "#                        np.array(eft.min_positions), \n",
    "#                        np.array(eft.max_positions)):\n",
    "#        print(eft.trajectory.get_state(t)[0])\n",
    "#        print(\"Time = \", t)\n",
    "#        raise (\"Joint Angles not within limits!\")"
   ]
  }
 ],
 "metadata": {
  "kernelspec": {
   "display_name": "Python 3",
   "language": "python",
   "name": "python3"
  },
  "language_info": {
   "codemirror_mode": {
    "name": "ipython",
    "version": 3
   },
   "file_extension": ".py",
   "mimetype": "text/x-python",
   "name": "python",
   "nbconvert_exporter": "python",
   "pygments_lexer": "ipython3",
   "version": "3.6.9"
  }
 },
 "nbformat": 4,
 "nbformat_minor": 5
}
